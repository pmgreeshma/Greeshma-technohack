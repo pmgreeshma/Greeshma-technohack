{
 "cells": [
  {
   "cell_type": "markdown",
   "id": "059151db",
   "metadata": {},
   "source": [
    "# Greeshma P M (batch 9)"
   ]
  },
  {
   "cell_type": "markdown",
   "id": "d2ffa8a6",
   "metadata": {},
   "source": [
    "#  Pivote table (task 4)"
   ]
  },
  {
   "cell_type": "code",
   "execution_count": null,
   "id": "a3c63d2f",
   "metadata": {},
   "outputs": [],
   "source": [
    "import pandas as pd\n",
    "\n",
    "# Load your dataset into a Pandas DataFrame\n",
    "df = pd.read_csv(\"Housing (1).csv\")\n",
    "\n",
    "# Create a pivot table to summarize the data\n",
    "pivot_table = pd.pivot_table(df, \n",
    "                              values='price',  # The values to be summarized\n",
    "                              index='area',  # Rows of the pivot table\n",
    "                              columns=['bedrooms', 'bathrooms'],  # Columns of the pivot table\n",
    "                              aggfunc='mean',  # Aggregation function (e.g., mean, sum, count)\n",
    "                              fill_value=0)  # Fill missing values with 0\n",
    "\n",
    "# Print the pivot table\n",
    "print(pivot_table)"
   ]
  },
  {
   "cell_type": "markdown",
   "id": "dee499ff",
   "metadata": {},
   "source": [
    "# Remove Duplication(task 5)"
   ]
  },
  {
   "cell_type": "code",
   "execution_count": null,
   "id": "0d976605",
   "metadata": {},
   "outputs": [],
   "source": [
    "import pandas as pd\n",
    "from sklearn.datasets import load_iris\n",
    "\n",
    "# Load the Iris dataset\n",
    "iris = load_iris()\n",
    "data = iris.data\n",
    "columns = iris.feature_names\n",
    "\n",
    "# Create a DataFrame from the Iris dataset\n",
    "df = pd.DataFrame(data, columns=columns)\n",
    "\n",
    "# Add a duplicate row\n",
    "df = df.append(df.iloc[0], ignore_index=True)\n",
    "\n",
    "# Identify duplicate rows based on all columns\n",
    "duplicate_rows = df[df.duplicated()]\n",
    "\n",
    "# Display duplicate rows\n",
    "print(\"Duplicate Rows:\")\n",
    "print(duplicate_rows)\n",
    "\n",
    "# Remove duplicate rows, keeping the first occurrence\n",
    "df_no_duplicates = df.drop_duplicates()\n",
    "\n",
    "# Display the DataFrame without duplicates\n",
    "print(\"\\nDataFrame without Duplicates:\")\n",
    "print(df_no_duplicates)"
   ]
  },
  {
   "cell_type": "markdown",
   "id": "7608f87a",
   "metadata": {},
   "source": [
    "# Visualization using Histogram (task 3)"
   ]
  },
  {
   "cell_type": "code",
   "execution_count": null,
   "id": "bc86e9ae",
   "metadata": {},
   "outputs": [],
   "source": [
    "pip install matplotlib seaborn\n"
   ]
  },
  {
   "cell_type": "code",
   "execution_count": null,
   "id": "b2c9e875",
   "metadata": {},
   "outputs": [],
   "source": [
    "import seaborn as sns\n",
    "import matplotlib.pyplot as plt\n",
    "import pandas as pd\n",
    "\n",
    "# Load the Iris dataset from Seaborn\n",
    "iris = sns.load_dataset('iris')\n",
    "\n",
    "# Create a histogram for the sepal length feature\n",
    "plt.figure(figsize=(8, 6))\n",
    "sns.histplot(iris['sepal_length'], bins=10, kde=True)\n",
    "plt.title('Distribution of Sepal Length in Iris Dataset')\n",
    "plt.xlabel('Sepal Length (cm)')\n",
    "plt.ylabel('Frequency')\n",
    "plt.show()\n"
   ]
  },
  {
   "cell_type": "code",
   "execution_count": null,
   "id": "3503c65e",
   "metadata": {},
   "outputs": [],
   "source": []
  }
 ],
 "metadata": {
  "kernelspec": {
   "display_name": "Python 3",
   "language": "python",
   "name": "python3"
  },
  "language_info": {
   "codemirror_mode": {
    "name": "ipython",
    "version": 3
   },
   "file_extension": ".py",
   "mimetype": "text/x-python",
   "name": "python",
   "nbconvert_exporter": "python",
   "pygments_lexer": "ipython3",
   "version": "3.8.8"
  }
 },
 "nbformat": 4,
 "nbformat_minor": 5
}
